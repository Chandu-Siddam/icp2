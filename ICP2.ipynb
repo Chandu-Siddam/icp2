{
  "nbformat": 4,
  "nbformat_minor": 0,
  "metadata": {
    "colab": {
      "provenance": []
    },
    "kernelspec": {
      "name": "python3",
      "display_name": "Python 3"
    },
    "language_info": {
      "name": "python"
    }
  },
  "cells": [
    {
      "cell_type": "code",
      "execution_count": 1,
      "metadata": {
        "colab": {
          "base_uri": "https://localhost:8080/"
        },
        "id": "5cJLgA52IqN3",
        "outputId": "39fbf113-b00f-4357-90b8-d1375b76b4a6"
      },
      "outputs": [
        {
          "output_type": "stream",
          "name": "stdout",
          "text": [
            "Few benefits as full time employee.\n",
            "Average salary: 148750.0\n"
          ]
        }
      ],
      "source": [
        "\n",
        "class Employee:\n",
        "\n",
        "   # Creating a data member to count the number of Employees\n",
        "\n",
        "   no_of_employees = 0\n",
        "   # Initializing name, family, salary, department\n",
        "\n",
        "   def __init__(self, name, family_name, salary, department):\n",
        "       self.__name = name\n",
        "       self.__family_name = family_name\n",
        "       self.salary = salary\n",
        "       self.__department = department\n",
        "       Employee.no_of_employees += 1\n",
        "    #Creating a function to average salary\n",
        "   @staticmethod\n",
        "   def average_salary(employees):\n",
        "\n",
        "       sum = 0\n",
        "       for employee in employees:\n",
        "           sum += employee.salary\n",
        "       return sum / Employee.no_of_employees\n",
        "     #Creating a Fulltime Employee class\n",
        "class FulltimeEmployee(Employee):\n",
        "\n",
        "   def __init__(self, name, family_name, salary, department):\n",
        "       super().__init__(name, family_name, salary, department)\n",
        "\n",
        "   def full_time_benefits(self):\n",
        "       print(\"Few benefits as full time employee.\")\n",
        "\n",
        "# Creating the instances of Fulltime Employee class and Employee class and also calling their member functions.\n",
        "\n",
        "def main():\n",
        "   employees = []\n",
        "   fte1 = FulltimeEmployee(\"Employee1\", \"FamilyName1\", 120000, \"Management\")\n",
        "   fte1.full_time_benefits()\n",
        "   employees.append(fte1)\n",
        "   fte2 = FulltimeEmployee(\"Employee2\", \"FamilyName2\", 180000, \"RnD\")\n",
        "   employees.append(fte2)\n",
        "   emp1 = Employee(\"Employee3\", \"FamilyName3\", 160000, \"Marketing\")\n",
        "   employees.append(emp1)\n",
        "   emp2 = Employee(\"Employee4\", \"FamilyName4\", 135000, \"HR\")\n",
        "   employees.append(emp2)\n",
        "   print(\"Average salary:\", FulltimeEmployee.average_salary(employees))\n",
        "\n",
        "\n",
        "if __name__ == \"__main__\":\n",
        "   main()"
      ]
    },
    {
      "cell_type": "code",
      "source": [
        "import numpy as np\n",
        "\n",
        "                                  #Creating a random vector of size 20\n",
        "v = np.random.uniform(1, 20, 20)\n",
        "\n",
        "v = v. reshape(4, 5)  # Reshape the array to 4 by 5\n",
        "\n",
        "print(v)\n",
        "\n",
        "v[np.arange(4), v.argmax(axis=1)]=0 # Replace the max value with 0 (axis=1)\n",
        "print(v)\n",
        ""
      ],
      "metadata": {
        "colab": {
          "base_uri": "https://localhost:8080/"
        },
        "id": "v0iz--iUKdr7",
        "outputId": "1a0ba05a-7bb5-4684-ca8c-3ae7b90324f4"
      },
      "execution_count": 2,
      "outputs": [
        {
          "output_type": "stream",
          "name": "stdout",
          "text": [
            "[[13.4960626   8.70050601 19.28670533  3.0825038   9.69304276]\n",
            " [19.19052563  7.10010313 14.77794658 15.40002458 16.62925316]\n",
            " [ 9.71311024  4.31510479 18.59838564  9.30946578  5.63517183]\n",
            " [16.74718431 12.28881945 11.26566346 12.30962606  4.52363408]]\n",
            "[[13.4960626   8.70050601  0.          3.0825038   9.69304276]\n",
            " [ 0.          7.10010313 14.77794658 15.40002458 16.62925316]\n",
            " [ 9.71311024  4.31510479  0.          9.30946578  5.63517183]\n",
            " [ 0.         12.28881945 11.26566346 12.30962606  4.52363408]]\n"
          ]
        }
      ]
    }
  ]
}